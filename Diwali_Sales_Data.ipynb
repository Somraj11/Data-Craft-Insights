{
 "cells": [
  {
   "cell_type": "code",
   "execution_count": 1,
   "id": "c7da32cb",
   "metadata": {},
   "outputs": [
    {
     "data": {
      "text/html": [
       "<div>\n",
       "<style scoped>\n",
       "    .dataframe tbody tr th:only-of-type {\n",
       "        vertical-align: middle;\n",
       "    }\n",
       "\n",
       "    .dataframe tbody tr th {\n",
       "        vertical-align: top;\n",
       "    }\n",
       "\n",
       "    .dataframe thead th {\n",
       "        text-align: right;\n",
       "    }\n",
       "</style>\n",
       "<table border=\"1\" class=\"dataframe\">\n",
       "  <thead>\n",
       "    <tr style=\"text-align: right;\">\n",
       "      <th></th>\n",
       "      <th>User_ID</th>\n",
       "      <th>Cust_name</th>\n",
       "      <th>Product_ID</th>\n",
       "      <th>Gender</th>\n",
       "      <th>Age Group</th>\n",
       "      <th>Age</th>\n",
       "      <th>Marital_Status</th>\n",
       "      <th>State</th>\n",
       "      <th>Zone</th>\n",
       "      <th>Occupation</th>\n",
       "      <th>Product_Category</th>\n",
       "      <th>Orders</th>\n",
       "      <th>Amount</th>\n",
       "      <th>Status</th>\n",
       "      <th>unnamed1</th>\n",
       "    </tr>\n",
       "  </thead>\n",
       "  <tbody>\n",
       "    <tr>\n",
       "      <th>0</th>\n",
       "      <td>1002903</td>\n",
       "      <td>Sanskriti</td>\n",
       "      <td>P00125942</td>\n",
       "      <td>F</td>\n",
       "      <td>26-35</td>\n",
       "      <td>28</td>\n",
       "      <td>0</td>\n",
       "      <td>Maharashtra</td>\n",
       "      <td>Western</td>\n",
       "      <td>Healthcare</td>\n",
       "      <td>Auto</td>\n",
       "      <td>1</td>\n",
       "      <td>23952.0</td>\n",
       "      <td>NaN</td>\n",
       "      <td>NaN</td>\n",
       "    </tr>\n",
       "    <tr>\n",
       "      <th>1</th>\n",
       "      <td>1000732</td>\n",
       "      <td>Kartik</td>\n",
       "      <td>P00110942</td>\n",
       "      <td>F</td>\n",
       "      <td>26-35</td>\n",
       "      <td>35</td>\n",
       "      <td>1</td>\n",
       "      <td>Andhra Pradesh</td>\n",
       "      <td>Southern</td>\n",
       "      <td>Govt</td>\n",
       "      <td>Auto</td>\n",
       "      <td>3</td>\n",
       "      <td>23934.0</td>\n",
       "      <td>NaN</td>\n",
       "      <td>NaN</td>\n",
       "    </tr>\n",
       "    <tr>\n",
       "      <th>2</th>\n",
       "      <td>1001990</td>\n",
       "      <td>Bindu</td>\n",
       "      <td>P00118542</td>\n",
       "      <td>F</td>\n",
       "      <td>26-35</td>\n",
       "      <td>35</td>\n",
       "      <td>1</td>\n",
       "      <td>Uttar Pradesh</td>\n",
       "      <td>Central</td>\n",
       "      <td>Automobile</td>\n",
       "      <td>Auto</td>\n",
       "      <td>3</td>\n",
       "      <td>23924.0</td>\n",
       "      <td>NaN</td>\n",
       "      <td>NaN</td>\n",
       "    </tr>\n",
       "    <tr>\n",
       "      <th>3</th>\n",
       "      <td>1001425</td>\n",
       "      <td>Sudevi</td>\n",
       "      <td>P00237842</td>\n",
       "      <td>M</td>\n",
       "      <td>0-17</td>\n",
       "      <td>16</td>\n",
       "      <td>0</td>\n",
       "      <td>Karnataka</td>\n",
       "      <td>Southern</td>\n",
       "      <td>Construction</td>\n",
       "      <td>Auto</td>\n",
       "      <td>2</td>\n",
       "      <td>23912.0</td>\n",
       "      <td>NaN</td>\n",
       "      <td>NaN</td>\n",
       "    </tr>\n",
       "    <tr>\n",
       "      <th>4</th>\n",
       "      <td>1000588</td>\n",
       "      <td>Joni</td>\n",
       "      <td>P00057942</td>\n",
       "      <td>M</td>\n",
       "      <td>26-35</td>\n",
       "      <td>28</td>\n",
       "      <td>1</td>\n",
       "      <td>Gujarat</td>\n",
       "      <td>Western</td>\n",
       "      <td>Food Processing</td>\n",
       "      <td>Auto</td>\n",
       "      <td>2</td>\n",
       "      <td>23877.0</td>\n",
       "      <td>NaN</td>\n",
       "      <td>NaN</td>\n",
       "    </tr>\n",
       "    <tr>\n",
       "      <th>...</th>\n",
       "      <td>...</td>\n",
       "      <td>...</td>\n",
       "      <td>...</td>\n",
       "      <td>...</td>\n",
       "      <td>...</td>\n",
       "      <td>...</td>\n",
       "      <td>...</td>\n",
       "      <td>...</td>\n",
       "      <td>...</td>\n",
       "      <td>...</td>\n",
       "      <td>...</td>\n",
       "      <td>...</td>\n",
       "      <td>...</td>\n",
       "      <td>...</td>\n",
       "      <td>...</td>\n",
       "    </tr>\n",
       "    <tr>\n",
       "      <th>11246</th>\n",
       "      <td>1000695</td>\n",
       "      <td>Manning</td>\n",
       "      <td>P00296942</td>\n",
       "      <td>M</td>\n",
       "      <td>18-25</td>\n",
       "      <td>19</td>\n",
       "      <td>1</td>\n",
       "      <td>Maharashtra</td>\n",
       "      <td>Western</td>\n",
       "      <td>Chemical</td>\n",
       "      <td>Office</td>\n",
       "      <td>4</td>\n",
       "      <td>370.0</td>\n",
       "      <td>NaN</td>\n",
       "      <td>NaN</td>\n",
       "    </tr>\n",
       "    <tr>\n",
       "      <th>11247</th>\n",
       "      <td>1004089</td>\n",
       "      <td>Reichenbach</td>\n",
       "      <td>P00171342</td>\n",
       "      <td>M</td>\n",
       "      <td>26-35</td>\n",
       "      <td>33</td>\n",
       "      <td>0</td>\n",
       "      <td>Haryana</td>\n",
       "      <td>Northern</td>\n",
       "      <td>Healthcare</td>\n",
       "      <td>Veterinary</td>\n",
       "      <td>3</td>\n",
       "      <td>367.0</td>\n",
       "      <td>NaN</td>\n",
       "      <td>NaN</td>\n",
       "    </tr>\n",
       "    <tr>\n",
       "      <th>11248</th>\n",
       "      <td>1001209</td>\n",
       "      <td>Oshin</td>\n",
       "      <td>P00201342</td>\n",
       "      <td>F</td>\n",
       "      <td>36-45</td>\n",
       "      <td>40</td>\n",
       "      <td>0</td>\n",
       "      <td>Madhya Pradesh</td>\n",
       "      <td>Central</td>\n",
       "      <td>Textile</td>\n",
       "      <td>Office</td>\n",
       "      <td>4</td>\n",
       "      <td>213.0</td>\n",
       "      <td>NaN</td>\n",
       "      <td>NaN</td>\n",
       "    </tr>\n",
       "    <tr>\n",
       "      <th>11249</th>\n",
       "      <td>1004023</td>\n",
       "      <td>Noonan</td>\n",
       "      <td>P00059442</td>\n",
       "      <td>M</td>\n",
       "      <td>36-45</td>\n",
       "      <td>37</td>\n",
       "      <td>0</td>\n",
       "      <td>Karnataka</td>\n",
       "      <td>Southern</td>\n",
       "      <td>Agriculture</td>\n",
       "      <td>Office</td>\n",
       "      <td>3</td>\n",
       "      <td>206.0</td>\n",
       "      <td>NaN</td>\n",
       "      <td>NaN</td>\n",
       "    </tr>\n",
       "    <tr>\n",
       "      <th>11250</th>\n",
       "      <td>1002744</td>\n",
       "      <td>Brumley</td>\n",
       "      <td>P00281742</td>\n",
       "      <td>F</td>\n",
       "      <td>18-25</td>\n",
       "      <td>19</td>\n",
       "      <td>0</td>\n",
       "      <td>Maharashtra</td>\n",
       "      <td>Western</td>\n",
       "      <td>Healthcare</td>\n",
       "      <td>Office</td>\n",
       "      <td>3</td>\n",
       "      <td>188.0</td>\n",
       "      <td>NaN</td>\n",
       "      <td>NaN</td>\n",
       "    </tr>\n",
       "  </tbody>\n",
       "</table>\n",
       "<p>11251 rows × 15 columns</p>\n",
       "</div>"
      ],
      "text/plain": [
       "       User_ID    Cust_name Product_ID Gender Age Group  Age  Marital_Status  \\\n",
       "0      1002903    Sanskriti  P00125942      F     26-35   28               0   \n",
       "1      1000732       Kartik  P00110942      F     26-35   35               1   \n",
       "2      1001990        Bindu  P00118542      F     26-35   35               1   \n",
       "3      1001425       Sudevi  P00237842      M      0-17   16               0   \n",
       "4      1000588         Joni  P00057942      M     26-35   28               1   \n",
       "...        ...          ...        ...    ...       ...  ...             ...   \n",
       "11246  1000695      Manning  P00296942      M     18-25   19               1   \n",
       "11247  1004089  Reichenbach  P00171342      M     26-35   33               0   \n",
       "11248  1001209        Oshin  P00201342      F     36-45   40               0   \n",
       "11249  1004023       Noonan  P00059442      M     36-45   37               0   \n",
       "11250  1002744      Brumley  P00281742      F     18-25   19               0   \n",
       "\n",
       "                State      Zone       Occupation Product_Category  Orders  \\\n",
       "0         Maharashtra   Western       Healthcare             Auto       1   \n",
       "1      Andhra Pradesh  Southern             Govt             Auto       3   \n",
       "2       Uttar Pradesh   Central       Automobile             Auto       3   \n",
       "3           Karnataka  Southern     Construction             Auto       2   \n",
       "4             Gujarat   Western  Food Processing             Auto       2   \n",
       "...               ...       ...              ...              ...     ...   \n",
       "11246     Maharashtra   Western         Chemical           Office       4   \n",
       "11247         Haryana  Northern       Healthcare       Veterinary       3   \n",
       "11248  Madhya Pradesh   Central          Textile           Office       4   \n",
       "11249       Karnataka  Southern      Agriculture           Office       3   \n",
       "11250     Maharashtra   Western       Healthcare           Office       3   \n",
       "\n",
       "        Amount  Status  unnamed1  \n",
       "0      23952.0     NaN       NaN  \n",
       "1      23934.0     NaN       NaN  \n",
       "2      23924.0     NaN       NaN  \n",
       "3      23912.0     NaN       NaN  \n",
       "4      23877.0     NaN       NaN  \n",
       "...        ...     ...       ...  \n",
       "11246    370.0     NaN       NaN  \n",
       "11247    367.0     NaN       NaN  \n",
       "11248    213.0     NaN       NaN  \n",
       "11249    206.0     NaN       NaN  \n",
       "11250    188.0     NaN       NaN  \n",
       "\n",
       "[11251 rows x 15 columns]"
      ]
     },
     "execution_count": 1,
     "metadata": {},
     "output_type": "execute_result"
    }
   ],
   "source": [
    "import numpy as np\n",
    "import pandas as pd\n",
    "import matplotlib.pyplot as plt\n",
    "df= pd.read_csv(r\"C:\\Users\\DELL\\Documents\\Datasets\\Diwali Sales Data.csv\", encoding= 'unicode_escape')\n",
    "df"
   ]
  },
  {
   "cell_type": "code",
   "execution_count": 2,
   "id": "48beef91",
   "metadata": {},
   "outputs": [
    {
     "data": {
      "text/html": [
       "<div>\n",
       "<style scoped>\n",
       "    .dataframe tbody tr th:only-of-type {\n",
       "        vertical-align: middle;\n",
       "    }\n",
       "\n",
       "    .dataframe tbody tr th {\n",
       "        vertical-align: top;\n",
       "    }\n",
       "\n",
       "    .dataframe thead th {\n",
       "        text-align: right;\n",
       "    }\n",
       "</style>\n",
       "<table border=\"1\" class=\"dataframe\">\n",
       "  <thead>\n",
       "    <tr style=\"text-align: right;\">\n",
       "      <th></th>\n",
       "      <th>User_ID</th>\n",
       "      <th>Cust_name</th>\n",
       "      <th>Product_ID</th>\n",
       "      <th>Gender</th>\n",
       "      <th>Age Group</th>\n",
       "      <th>Age</th>\n",
       "      <th>Marital_Status</th>\n",
       "      <th>State</th>\n",
       "      <th>Zone</th>\n",
       "      <th>Occupation</th>\n",
       "      <th>Product_Category</th>\n",
       "      <th>Orders</th>\n",
       "      <th>Amount</th>\n",
       "    </tr>\n",
       "  </thead>\n",
       "  <tbody>\n",
       "    <tr>\n",
       "      <th>0</th>\n",
       "      <td>1002903</td>\n",
       "      <td>Sanskriti</td>\n",
       "      <td>P00125942</td>\n",
       "      <td>F</td>\n",
       "      <td>26-35</td>\n",
       "      <td>28</td>\n",
       "      <td>0</td>\n",
       "      <td>Maharashtra</td>\n",
       "      <td>Western</td>\n",
       "      <td>Healthcare</td>\n",
       "      <td>Auto</td>\n",
       "      <td>1</td>\n",
       "      <td>23952.0</td>\n",
       "    </tr>\n",
       "    <tr>\n",
       "      <th>1</th>\n",
       "      <td>1000732</td>\n",
       "      <td>Kartik</td>\n",
       "      <td>P00110942</td>\n",
       "      <td>F</td>\n",
       "      <td>26-35</td>\n",
       "      <td>35</td>\n",
       "      <td>1</td>\n",
       "      <td>Andhra Pradesh</td>\n",
       "      <td>Southern</td>\n",
       "      <td>Govt</td>\n",
       "      <td>Auto</td>\n",
       "      <td>3</td>\n",
       "      <td>23934.0</td>\n",
       "    </tr>\n",
       "    <tr>\n",
       "      <th>2</th>\n",
       "      <td>1001990</td>\n",
       "      <td>Bindu</td>\n",
       "      <td>P00118542</td>\n",
       "      <td>F</td>\n",
       "      <td>26-35</td>\n",
       "      <td>35</td>\n",
       "      <td>1</td>\n",
       "      <td>Uttar Pradesh</td>\n",
       "      <td>Central</td>\n",
       "      <td>Automobile</td>\n",
       "      <td>Auto</td>\n",
       "      <td>3</td>\n",
       "      <td>23924.0</td>\n",
       "    </tr>\n",
       "    <tr>\n",
       "      <th>3</th>\n",
       "      <td>1001425</td>\n",
       "      <td>Sudevi</td>\n",
       "      <td>P00237842</td>\n",
       "      <td>M</td>\n",
       "      <td>0-17</td>\n",
       "      <td>16</td>\n",
       "      <td>0</td>\n",
       "      <td>Karnataka</td>\n",
       "      <td>Southern</td>\n",
       "      <td>Construction</td>\n",
       "      <td>Auto</td>\n",
       "      <td>2</td>\n",
       "      <td>23912.0</td>\n",
       "    </tr>\n",
       "    <tr>\n",
       "      <th>4</th>\n",
       "      <td>1000588</td>\n",
       "      <td>Joni</td>\n",
       "      <td>P00057942</td>\n",
       "      <td>M</td>\n",
       "      <td>26-35</td>\n",
       "      <td>28</td>\n",
       "      <td>1</td>\n",
       "      <td>Gujarat</td>\n",
       "      <td>Western</td>\n",
       "      <td>Food Processing</td>\n",
       "      <td>Auto</td>\n",
       "      <td>2</td>\n",
       "      <td>23877.0</td>\n",
       "    </tr>\n",
       "    <tr>\n",
       "      <th>...</th>\n",
       "      <td>...</td>\n",
       "      <td>...</td>\n",
       "      <td>...</td>\n",
       "      <td>...</td>\n",
       "      <td>...</td>\n",
       "      <td>...</td>\n",
       "      <td>...</td>\n",
       "      <td>...</td>\n",
       "      <td>...</td>\n",
       "      <td>...</td>\n",
       "      <td>...</td>\n",
       "      <td>...</td>\n",
       "      <td>...</td>\n",
       "    </tr>\n",
       "    <tr>\n",
       "      <th>11246</th>\n",
       "      <td>1000695</td>\n",
       "      <td>Manning</td>\n",
       "      <td>P00296942</td>\n",
       "      <td>M</td>\n",
       "      <td>18-25</td>\n",
       "      <td>19</td>\n",
       "      <td>1</td>\n",
       "      <td>Maharashtra</td>\n",
       "      <td>Western</td>\n",
       "      <td>Chemical</td>\n",
       "      <td>Office</td>\n",
       "      <td>4</td>\n",
       "      <td>370.0</td>\n",
       "    </tr>\n",
       "    <tr>\n",
       "      <th>11247</th>\n",
       "      <td>1004089</td>\n",
       "      <td>Reichenbach</td>\n",
       "      <td>P00171342</td>\n",
       "      <td>M</td>\n",
       "      <td>26-35</td>\n",
       "      <td>33</td>\n",
       "      <td>0</td>\n",
       "      <td>Haryana</td>\n",
       "      <td>Northern</td>\n",
       "      <td>Healthcare</td>\n",
       "      <td>Veterinary</td>\n",
       "      <td>3</td>\n",
       "      <td>367.0</td>\n",
       "    </tr>\n",
       "    <tr>\n",
       "      <th>11248</th>\n",
       "      <td>1001209</td>\n",
       "      <td>Oshin</td>\n",
       "      <td>P00201342</td>\n",
       "      <td>F</td>\n",
       "      <td>36-45</td>\n",
       "      <td>40</td>\n",
       "      <td>0</td>\n",
       "      <td>Madhya Pradesh</td>\n",
       "      <td>Central</td>\n",
       "      <td>Textile</td>\n",
       "      <td>Office</td>\n",
       "      <td>4</td>\n",
       "      <td>213.0</td>\n",
       "    </tr>\n",
       "    <tr>\n",
       "      <th>11249</th>\n",
       "      <td>1004023</td>\n",
       "      <td>Noonan</td>\n",
       "      <td>P00059442</td>\n",
       "      <td>M</td>\n",
       "      <td>36-45</td>\n",
       "      <td>37</td>\n",
       "      <td>0</td>\n",
       "      <td>Karnataka</td>\n",
       "      <td>Southern</td>\n",
       "      <td>Agriculture</td>\n",
       "      <td>Office</td>\n",
       "      <td>3</td>\n",
       "      <td>206.0</td>\n",
       "    </tr>\n",
       "    <tr>\n",
       "      <th>11250</th>\n",
       "      <td>1002744</td>\n",
       "      <td>Brumley</td>\n",
       "      <td>P00281742</td>\n",
       "      <td>F</td>\n",
       "      <td>18-25</td>\n",
       "      <td>19</td>\n",
       "      <td>0</td>\n",
       "      <td>Maharashtra</td>\n",
       "      <td>Western</td>\n",
       "      <td>Healthcare</td>\n",
       "      <td>Office</td>\n",
       "      <td>3</td>\n",
       "      <td>188.0</td>\n",
       "    </tr>\n",
       "  </tbody>\n",
       "</table>\n",
       "<p>11251 rows × 13 columns</p>\n",
       "</div>"
      ],
      "text/plain": [
       "       User_ID    Cust_name Product_ID Gender Age Group  Age  Marital_Status  \\\n",
       "0      1002903    Sanskriti  P00125942      F     26-35   28               0   \n",
       "1      1000732       Kartik  P00110942      F     26-35   35               1   \n",
       "2      1001990        Bindu  P00118542      F     26-35   35               1   \n",
       "3      1001425       Sudevi  P00237842      M      0-17   16               0   \n",
       "4      1000588         Joni  P00057942      M     26-35   28               1   \n",
       "...        ...          ...        ...    ...       ...  ...             ...   \n",
       "11246  1000695      Manning  P00296942      M     18-25   19               1   \n",
       "11247  1004089  Reichenbach  P00171342      M     26-35   33               0   \n",
       "11248  1001209        Oshin  P00201342      F     36-45   40               0   \n",
       "11249  1004023       Noonan  P00059442      M     36-45   37               0   \n",
       "11250  1002744      Brumley  P00281742      F     18-25   19               0   \n",
       "\n",
       "                State      Zone       Occupation Product_Category  Orders  \\\n",
       "0         Maharashtra   Western       Healthcare             Auto       1   \n",
       "1      Andhra Pradesh  Southern             Govt             Auto       3   \n",
       "2       Uttar Pradesh   Central       Automobile             Auto       3   \n",
       "3           Karnataka  Southern     Construction             Auto       2   \n",
       "4             Gujarat   Western  Food Processing             Auto       2   \n",
       "...               ...       ...              ...              ...     ...   \n",
       "11246     Maharashtra   Western         Chemical           Office       4   \n",
       "11247         Haryana  Northern       Healthcare       Veterinary       3   \n",
       "11248  Madhya Pradesh   Central          Textile           Office       4   \n",
       "11249       Karnataka  Southern      Agriculture           Office       3   \n",
       "11250     Maharashtra   Western       Healthcare           Office       3   \n",
       "\n",
       "        Amount  \n",
       "0      23952.0  \n",
       "1      23934.0  \n",
       "2      23924.0  \n",
       "3      23912.0  \n",
       "4      23877.0  \n",
       "...        ...  \n",
       "11246    370.0  \n",
       "11247    367.0  \n",
       "11248    213.0  \n",
       "11249    206.0  \n",
       "11250    188.0  \n",
       "\n",
       "[11251 rows x 13 columns]"
      ]
     },
     "execution_count": 2,
     "metadata": {},
     "output_type": "execute_result"
    }
   ],
   "source": [
    "df.drop(['Status', 'unnamed1'], axis=1, inplace=True)\n",
    "df"
   ]
  },
  {
   "cell_type": "markdown",
   "id": "1de8b790",
   "metadata": {},
   "source": [
    "1. What is the average age of customers in the dataset?"
   ]
  },
  {
   "cell_type": "code",
   "execution_count": 3,
   "id": "3516b1c2",
   "metadata": {},
   "outputs": [
    {
     "data": {
      "text/plain": [
       "35.421207003821884"
      ]
     },
     "execution_count": 3,
     "metadata": {},
     "output_type": "execute_result"
    }
   ],
   "source": [
    "df[\"Age\"].mean()"
   ]
  },
  {
   "cell_type": "markdown",
   "id": "93a2ede4",
   "metadata": {},
   "source": [
    "2. How many unique product categories are there?"
   ]
  },
  {
   "cell_type": "code",
   "execution_count": 4,
   "id": "0a5133cb",
   "metadata": {},
   "outputs": [
    {
     "data": {
      "text/plain": [
       "18"
      ]
     },
     "execution_count": 4,
     "metadata": {},
     "output_type": "execute_result"
    }
   ],
   "source": [
    "df[\"Product_Category\"].nunique()"
   ]
  },
  {
   "cell_type": "markdown",
   "id": "80b2680d",
   "metadata": {},
   "source": [
    "3. What is the total sales amount for the entire dataset?"
   ]
  },
  {
   "cell_type": "code",
   "execution_count": 5,
   "id": "38277e65",
   "metadata": {},
   "outputs": [
    {
     "data": {
      "text/plain": [
       "106249132.43"
      ]
     },
     "execution_count": 5,
     "metadata": {},
     "output_type": "execute_result"
    }
   ],
   "source": [
    "df[\"Amount\"].sum()"
   ]
  },
  {
   "cell_type": "markdown",
   "id": "72a8fc1d",
   "metadata": {},
   "source": [
    "4. Which state has the highest total sales?"
   ]
  },
  {
   "cell_type": "code",
   "execution_count": 6,
   "id": "55ac12e2",
   "metadata": {},
   "outputs": [
    {
     "data": {
      "text/plain": [
       "'Uttar Pradesh'"
      ]
     },
     "execution_count": 6,
     "metadata": {},
     "output_type": "execute_result"
    }
   ],
   "source": [
    "df.groupby(\"State\")[\"Amount\"].sum().idxmax()   #idxmax used to get the maximum "
   ]
  },
  {
   "cell_type": "markdown",
   "id": "784247c6",
   "metadata": {},
   "source": [
    "5. How many male and female customers are there in the dataset?"
   ]
  },
  {
   "cell_type": "code",
   "execution_count": 7,
   "id": "7acf9be5",
   "metadata": {
    "scrolled": true
   },
   "outputs": [
    {
     "data": {
      "text/plain": [
       "Gender\n",
       "F    7842\n",
       "M    3409\n",
       "Name: Gender, dtype: int64"
      ]
     },
     "execution_count": 7,
     "metadata": {},
     "output_type": "execute_result"
    }
   ],
   "source": [
    "df.groupby(\"Gender\")[\"Gender\"].count()"
   ]
  },
  {
   "cell_type": "code",
   "execution_count": 8,
   "id": "39dcf7a1",
   "metadata": {},
   "outputs": [
    {
     "data": {
      "text/plain": [
       "F    7842\n",
       "M    3409\n",
       "Name: Gender, dtype: int64"
      ]
     },
     "execution_count": 8,
     "metadata": {},
     "output_type": "execute_result"
    }
   ],
   "source": [
    "gender_counts = df['Gender'].value_counts()\n",
    "gender_counts"
   ]
  },
  {
   "cell_type": "markdown",
   "id": "a9044f56",
   "metadata": {},
   "source": [
    "6. What is the most common occupation among customers?"
   ]
  },
  {
   "cell_type": "code",
   "execution_count": 9,
   "id": "a12d4d4a",
   "metadata": {},
   "outputs": [
    {
     "data": {
      "text/plain": [
       "'IT Sector'"
      ]
     },
     "execution_count": 9,
     "metadata": {},
     "output_type": "execute_result"
    }
   ],
   "source": [
    "occu_count= df[\"Occupation\"].value_counts().idxmax()\n",
    "occu_count"
   ]
  },
  {
   "cell_type": "markdown",
   "id": "1ef3223e",
   "metadata": {},
   "source": [
    "7. Calculate the average amount spent per order."
   ]
  },
  {
   "cell_type": "code",
   "execution_count": 10,
   "id": "77119c84",
   "metadata": {},
   "outputs": [
    {
     "data": {
      "text/plain": [
       "9453.610857727557"
      ]
     },
     "execution_count": 10,
     "metadata": {},
     "output_type": "execute_result"
    }
   ],
   "source": [
    "avg_amount= df[\"Amount\"].mean()\n",
    "avg_amount"
   ]
  },
  {
   "cell_type": "markdown",
   "id": "abf86818",
   "metadata": {},
   "source": [
    "8. How many customers fall into each age group (Age Group column)?"
   ]
  },
  {
   "cell_type": "code",
   "execution_count": 13,
   "id": "01cb7c69",
   "metadata": {},
   "outputs": [
    {
     "data": {
      "image/png": "[encoded data removed]",
      "text/plain": [
       "<Figure size 1000x600 with 1 Axes>"
      ]
     },
     "metadata": {},
     "output_type": "display_data"
    }
   ],
   "source": [
    "age_group_count= df[\"Age Group\"].value_counts()\n",
    "plt.figure(figsize=(10, 6))\n",
    "age_group_count.sort_index().plot(kind='bar', color='skyblue')\n",
    "plt.title('Distribution of Age Groups')\n",
    "plt.xlabel('Age Group')\n",
    "plt.ylabel('Count')\n",
    "plt.show()"
   ]
  },
  {
   "cell_type": "markdown",
   "id": "c70e8867",
   "metadata": {},
   "source": [
    "9. What is the median number of orders per customer?"
   ]
  },
  {
   "cell_type": "code",
   "execution_count": 12,
   "id": "85d1f098",
   "metadata": {},
   "outputs": [
    {
     "data": {
      "text/plain": [
       "2.5"
      ]
     },
     "execution_count": 12,
     "metadata": {},
     "output_type": "execute_result"
    }
   ],
   "source": [
    "df.groupby(\"Cust_name\")[\"Orders\"].median().median()"
   ]
  },
  {
   "cell_type": "markdown",
   "id": "68e34f97",
   "metadata": {},
   "source": [
    "10. Calculate the total sales for each product category."
   ]
  },
  {
   "cell_type": "code",
   "execution_count": 18,
   "id": "179bda99",
   "metadata": {
    "scrolled": true
   },
   "outputs": [
    {
     "data": {
      "image/png": "[encoded data removed]",
      "text/plain": [
       "<Figure size 1000x600 with 1 Axes>"
      ]
     },
     "metadata": {},
     "output_type": "display_data"
    }
   ],
   "source": [
    "prod_cat_sales= df.groupby(\"Product_Category\")[\"Amount\"].sum().sort_values(ascending= False)\n",
    "plt.figure(figsize=(10, 6))\n",
    "prod_cat_sales.sort_values(ascending=False).plot(kind='bar', stacked=True, color='skyblue')\n",
    "plt.title('Product Category Sales')\n",
    "plt.xlabel('Product Category')\n",
    "plt.ylabel('Total Sales Amount')\n",
    "plt.show()"
   ]
  },
  {
   "cell_type": "markdown",
   "id": "20182988",
   "metadata": {},
   "source": [
    "11. What is the correlation between Age and Amount?"
   ]
  },
  {
   "cell_type": "code",
   "execution_count": 109,
   "id": "a51754a3",
   "metadata": {},
   "outputs": [
    {
     "data": {
      "text/plain": [
       "0.030941321745294494"
      ]
     },
     "execution_count": 109,
     "metadata": {},
     "output_type": "execute_result"
    }
   ],
   "source": [
    "corr_age_amt= df[\"Age\"].corr(df[\"Amount\"])\n",
    "corr_age_amt"
   ]
  },
  {
   "cell_type": "markdown",
   "id": "aef0aa95",
   "metadata": {},
   "source": [
    "12. Which product had the highest average order amount?"
   ]
  },
  {
   "cell_type": "code",
   "execution_count": 20,
   "id": "d28cb4eb",
   "metadata": {},
   "outputs": [
    {
     "data": {
      "text/plain": [
       "Product_ID\n",
       "P00000142    2.38\n",
       "P00000242    2.50\n",
       "P00000342    3.20\n",
       "P00000442    1.00\n",
       "P00000542    3.00\n",
       "             ... \n",
       "P0099042     3.17\n",
       "P0099242     2.71\n",
       "P0099342     2.50\n",
       "P0099442     2.50\n",
       "P0099742     3.00\n",
       "Name: Orders, Length: 2351, dtype: float64"
      ]
     },
     "execution_count": 20,
     "metadata": {},
     "output_type": "execute_result"
    }
   ],
   "source": [
    "high_order_amt= df.groupby(\"Product_ID\")[\"Orders\"].mean().round(2).idxmax()\n",
    "high_order_amt"
   ]
  },
  {
   "cell_type": "markdown",
   "id": "3b8be537",
   "metadata": {},
   "source": [
    "13. What is the percentage of married customers in the dataset?"
   ]
  },
  {
   "cell_type": "code",
   "execution_count": 111,
   "id": "fdc29114",
   "metadata": {},
   "outputs": [
    {
     "data": {
      "text/plain": [
       "42.03"
      ]
     },
     "execution_count": 111,
     "metadata": {},
     "output_type": "execute_result"
    }
   ],
   "source": [
    "formula= ((((df[\"Marital_Status\"]==1).sum())/(df[\"Marital_Status\"].count()))*100).round(2)\n",
    "formula"
   ]
  },
  {
   "cell_type": "code",
   "execution_count": 112,
   "id": "b97e8cbc",
   "metadata": {},
   "outputs": [
    {
     "data": {
      "text/plain": [
       "0.4203181939383166"
      ]
     },
     "execution_count": 112,
     "metadata": {},
     "output_type": "execute_result"
    }
   ],
   "source": [
    "#another mothod.\n",
    "formula1= (df['Marital_Status'] == 1).mean() \n",
    "formula1"
   ]
  },
  {
   "cell_type": "markdown",
   "id": "886c07fb",
   "metadata": {},
   "source": [
    "What is the average order amount for each age group (Age Group column)?"
   ]
  },
  {
   "cell_type": "code",
   "execution_count": 22,
   "id": "f6831dca",
   "metadata": {},
   "outputs": [
    {
     "data": {
      "image/png": "[encoded data removed]",
      "text/plain": [
       "<Figure size 1000x600 with 1 Axes>"
      ]
     },
     "metadata": {},
     "output_type": "display_data"
    }
   ],
   "source": [
    "avg_amt_age= df.groupby(\"Age Group\")[\"Amount\"].mean().round(2)\n",
    "plt.figure(figsize=(10, 6))\n",
    "avg_amt_age.sort_index().plot(kind='bar', color='skyblue', grid= True)\n",
    "plt.title('Average Amount by Age Group')\n",
    "plt.xlabel('Age Group')\n",
    "plt.ylabel('Average Amount')\n",
    "plt.show()"
   ]
  },
  {
   "cell_type": "markdown",
   "id": "39a6dfca",
   "metadata": {},
   "source": [
    "Calculate the total sales for each state and sort them in descending order."
   ]
  },
  {
   "cell_type": "code",
   "execution_count": 115,
   "id": "781d4505",
   "metadata": {},
   "outputs": [
    {
     "data": {
      "text/html": [
       "<div>\n",
       "<style scoped>\n",
       "    .dataframe tbody tr th:only-of-type {\n",
       "        vertical-align: middle;\n",
       "    }\n",
       "\n",
       "    .dataframe tbody tr th {\n",
       "        vertical-align: top;\n",
       "    }\n",
       "\n",
       "    .dataframe thead th {\n",
       "        text-align: right;\n",
       "    }\n",
       "</style>\n",
       "<table border=\"1\" class=\"dataframe\">\n",
       "  <thead>\n",
       "    <tr style=\"text-align: right;\">\n",
       "      <th></th>\n",
       "      <th>State</th>\n",
       "      <th>Amount</th>\n",
       "    </tr>\n",
       "  </thead>\n",
       "  <tbody>\n",
       "    <tr>\n",
       "      <th>14</th>\n",
       "      <td>Uttar Pradesh</td>\n",
       "      <td>19374968.00</td>\n",
       "    </tr>\n",
       "    <tr>\n",
       "      <th>10</th>\n",
       "      <td>Maharashtra</td>\n",
       "      <td>14427543.00</td>\n",
       "    </tr>\n",
       "    <tr>\n",
       "      <th>7</th>\n",
       "      <td>Karnataka</td>\n",
       "      <td>13523540.00</td>\n",
       "    </tr>\n",
       "    <tr>\n",
       "      <th>2</th>\n",
       "      <td>Delhi</td>\n",
       "      <td>11603819.45</td>\n",
       "    </tr>\n",
       "    <tr>\n",
       "      <th>9</th>\n",
       "      <td>Madhya Pradesh</td>\n",
       "      <td>8101142.00</td>\n",
       "    </tr>\n",
       "    <tr>\n",
       "      <th>0</th>\n",
       "      <td>Andhra Pradesh</td>\n",
       "      <td>8037146.99</td>\n",
       "    </tr>\n",
       "    <tr>\n",
       "      <th>5</th>\n",
       "      <td>Himachal Pradesh</td>\n",
       "      <td>4963368.00</td>\n",
       "    </tr>\n",
       "    <tr>\n",
       "      <th>4</th>\n",
       "      <td>Haryana</td>\n",
       "      <td>4220175.00</td>\n",
       "    </tr>\n",
       "    <tr>\n",
       "      <th>1</th>\n",
       "      <td>Bihar</td>\n",
       "      <td>4022757.00</td>\n",
       "    </tr>\n",
       "    <tr>\n",
       "      <th>3</th>\n",
       "      <td>Gujarat</td>\n",
       "      <td>3946082.00</td>\n",
       "    </tr>\n",
       "    <tr>\n",
       "      <th>8</th>\n",
       "      <td>Kerala</td>\n",
       "      <td>3894491.99</td>\n",
       "    </tr>\n",
       "    <tr>\n",
       "      <th>6</th>\n",
       "      <td>Jharkhand</td>\n",
       "      <td>3026456.00</td>\n",
       "    </tr>\n",
       "    <tr>\n",
       "      <th>15</th>\n",
       "      <td>Uttarakhand</td>\n",
       "      <td>2520944.00</td>\n",
       "    </tr>\n",
       "    <tr>\n",
       "      <th>12</th>\n",
       "      <td>Rajasthan</td>\n",
       "      <td>1909409.00</td>\n",
       "    </tr>\n",
       "    <tr>\n",
       "      <th>11</th>\n",
       "      <td>Punjab</td>\n",
       "      <td>1525800.00</td>\n",
       "    </tr>\n",
       "    <tr>\n",
       "      <th>13</th>\n",
       "      <td>Telangana</td>\n",
       "      <td>1151490.00</td>\n",
       "    </tr>\n",
       "  </tbody>\n",
       "</table>\n",
       "</div>"
      ],
      "text/plain": [
       "               State       Amount\n",
       "14     Uttar Pradesh  19374968.00\n",
       "10       Maharashtra  14427543.00\n",
       "7          Karnataka  13523540.00\n",
       "2              Delhi  11603819.45\n",
       "9     Madhya Pradesh   8101142.00\n",
       "0     Andhra Pradesh   8037146.99\n",
       "5   Himachal Pradesh   4963368.00\n",
       "4            Haryana   4220175.00\n",
       "1              Bihar   4022757.00\n",
       "3            Gujarat   3946082.00\n",
       "8             Kerala   3894491.99\n",
       "6          Jharkhand   3026456.00\n",
       "15       Uttarakhand   2520944.00\n",
       "12         Rajasthan   1909409.00\n",
       "11            Punjab   1525800.00\n",
       "13         Telangana   1151490.00"
      ]
     },
     "execution_count": 115,
     "metadata": {},
     "output_type": "execute_result"
    }
   ],
   "source": [
    "state_sale= df.groupby(\"State\", as_index=False)[\"Amount\"].sum().sort_values(by=\"Amount\",ascending= False)\n",
    "state_sale"
   ]
  },
  {
   "cell_type": "markdown",
   "id": "af3f809e",
   "metadata": {},
   "source": [
    "Find the product category with the highest median order amount."
   ]
  },
  {
   "cell_type": "code",
   "execution_count": 116,
   "id": "70060bc1",
   "metadata": {},
   "outputs": [
    {
     "data": {
      "text/plain": [
       "'Beauty'"
      ]
     },
     "execution_count": 116,
     "metadata": {},
     "output_type": "execute_result"
    }
   ],
   "source": [
    "prod_med= df.groupby(\"Product_Category\")[\"Orders\"].median().idxmax()\n",
    "prod_med"
   ]
  },
  {
   "cell_type": "markdown",
   "id": "9eb295ca",
   "metadata": {},
   "source": [
    "Determine the top 5 states with the highest average order amount."
   ]
  },
  {
   "cell_type": "code",
   "execution_count": 117,
   "id": "9c95999f",
   "metadata": {},
   "outputs": [
    {
     "data": {
      "text/plain": [
       "'Himachal Pradesh'"
      ]
     },
     "execution_count": 117,
     "metadata": {},
     "output_type": "execute_result"
    }
   ],
   "source": [
    "state_avg_order= df.groupby(\"State\")[\"Orders\"].mean().idxmax()\n",
    "state_avg_order"
   ]
  },
  {
   "cell_type": "markdown",
   "id": "0b32dc71",
   "metadata": {},
   "source": [
    "Calculate the total sales for each product category within each state."
   ]
  },
  {
   "cell_type": "code",
   "execution_count": 118,
   "id": "3fbcedc2",
   "metadata": {},
   "outputs": [
    {
     "data": {
      "text/plain": [
       "State           Product_Category     \n",
       "Andhra Pradesh  Auto                     1133837.99\n",
       "                Beauty                    183891.00\n",
       "                Books                      38681.00\n",
       "                Clothing & Apparel       1029062.00\n",
       "                Electronics & Gadgets    2123529.00\n",
       "                                            ...    \n",
       "Uttarakhand     Office                       587.00\n",
       "                Pet Care                   37230.00\n",
       "                Sports Products            32539.00\n",
       "                Stationery                  8660.00\n",
       "                Tupperware                 29366.00\n",
       "Name: Amount, Length: 241, dtype: float64"
      ]
     },
     "execution_count": 118,
     "metadata": {},
     "output_type": "execute_result"
    }
   ],
   "source": [
    "sales_of_state_prod= df.groupby(by=[\"State\", \"Product_Category\"])[\"Amount\"].sum()\n",
    "sales_of_state_prod"
   ]
  },
  {
   "cell_type": "markdown",
   "id": "64ea2d5f",
   "metadata": {},
   "source": [
    "Identify the top 10 customers (User_ID) who have made the most orders."
   ]
  },
  {
   "cell_type": "code",
   "execution_count": 119,
   "id": "c567e3fc",
   "metadata": {},
   "outputs": [
    {
     "data": {
      "text/plain": [
       "User_ID\n",
       "1001680    58\n",
       "1003476    57\n",
       "1003808    55\n",
       "1001941    52\n",
       "1006036    52\n",
       "1004682    51\n",
       "1002665    50\n",
       "1004725    50\n",
       "1000424    48\n",
       "1004425    48\n",
       "Name: Orders, dtype: int64"
      ]
     },
     "execution_count": 119,
     "metadata": {},
     "output_type": "execute_result"
    }
   ],
   "source": [
    "cust_order= df.groupby(\"User_ID\")[\"Orders\"].sum().sort_values( ascending= False).head(10)\n",
    "cust_order"
   ]
  },
  {
   "cell_type": "markdown",
   "id": "9c92b317",
   "metadata": {},
   "source": [
    "Calculate the average order amount for each product category, and then find the category with the highest average order amount."
   ]
  },
  {
   "cell_type": "code",
   "execution_count": 123,
   "id": "402580ac",
   "metadata": {},
   "outputs": [
    {
     "data": {
      "text/plain": [
       "'Hand & Power Tools'"
      ]
     },
     "execution_count": 123,
     "metadata": {},
     "output_type": "execute_result"
    }
   ],
   "source": [
    "prod_order= df.groupby(\"Product_Category\")[\"Orders\"].mean().idxmax()\n",
    "prod_order"
   ]
  },
  {
   "cell_type": "markdown",
   "id": "0b8b842d",
   "metadata": {},
   "source": [
    "Calculate the percentage of order amount that have a Marital_Status of \"Married.\""
   ]
  },
  {
   "cell_type": "code",
   "execution_count": 132,
   "id": "807972c0",
   "metadata": {},
   "outputs": [
    {
     "data": {
      "text/plain": [
       "41.95"
      ]
     },
     "execution_count": 132,
     "metadata": {},
     "output_type": "execute_result"
    }
   ],
   "source": [
    "married_orders= df[df['Marital_Status']== 1][\"Orders\"].sum()\n",
    "total_orders= df[\"Orders\"].sum()\n",
    "percent_orders= ((married_orders/total_orders)*100).round(2)\n",
    "percent_orders"
   ]
  },
  {
   "cell_type": "markdown",
   "id": "19a4b8a1",
   "metadata": {},
   "source": [
    "Find the state with the highest average age among customers."
   ]
  },
  {
   "cell_type": "code",
   "execution_count": 136,
   "id": "9dd389d6",
   "metadata": {},
   "outputs": [
    {
     "data": {
      "text/plain": [
       "'Telangana'"
      ]
     },
     "execution_count": 136,
     "metadata": {},
     "output_type": "execute_result"
    }
   ],
   "source": [
    "state_avg_age= df.groupby(\"State\")[\"Age\"].mean().idxmax()\n",
    "state_avg_age"
   ]
  },
  {
   "cell_type": "markdown",
   "id": "854978bb",
   "metadata": {},
   "source": [
    "Calculate the total sales for each zone within each state."
   ]
  },
  {
   "cell_type": "code",
   "execution_count": 141,
   "id": "ac004cef",
   "metadata": {},
   "outputs": [
    {
     "data": {
      "text/html": [
       "<div>\n",
       "<style scoped>\n",
       "    .dataframe tbody tr th:only-of-type {\n",
       "        vertical-align: middle;\n",
       "    }\n",
       "\n",
       "    .dataframe tbody tr th {\n",
       "        vertical-align: top;\n",
       "    }\n",
       "\n",
       "    .dataframe thead th {\n",
       "        text-align: right;\n",
       "    }\n",
       "</style>\n",
       "<table border=\"1\" class=\"dataframe\">\n",
       "  <thead>\n",
       "    <tr style=\"text-align: right;\">\n",
       "      <th></th>\n",
       "      <th>State</th>\n",
       "      <th>Zone</th>\n",
       "      <th>Amount</th>\n",
       "    </tr>\n",
       "  </thead>\n",
       "  <tbody>\n",
       "    <tr>\n",
       "      <th>14</th>\n",
       "      <td>Uttar Pradesh</td>\n",
       "      <td>Central</td>\n",
       "      <td>19374968.00</td>\n",
       "    </tr>\n",
       "    <tr>\n",
       "      <th>10</th>\n",
       "      <td>Maharashtra</td>\n",
       "      <td>Western</td>\n",
       "      <td>14427543.00</td>\n",
       "    </tr>\n",
       "    <tr>\n",
       "      <th>7</th>\n",
       "      <td>Karnataka</td>\n",
       "      <td>Southern</td>\n",
       "      <td>13523540.00</td>\n",
       "    </tr>\n",
       "    <tr>\n",
       "      <th>2</th>\n",
       "      <td>Delhi</td>\n",
       "      <td>Central</td>\n",
       "      <td>11603819.45</td>\n",
       "    </tr>\n",
       "    <tr>\n",
       "      <th>9</th>\n",
       "      <td>Madhya Pradesh</td>\n",
       "      <td>Central</td>\n",
       "      <td>8101142.00</td>\n",
       "    </tr>\n",
       "    <tr>\n",
       "      <th>0</th>\n",
       "      <td>Andhra Pradesh</td>\n",
       "      <td>Southern</td>\n",
       "      <td>8037146.99</td>\n",
       "    </tr>\n",
       "    <tr>\n",
       "      <th>5</th>\n",
       "      <td>Himachal Pradesh</td>\n",
       "      <td>Northern</td>\n",
       "      <td>4963368.00</td>\n",
       "    </tr>\n",
       "    <tr>\n",
       "      <th>4</th>\n",
       "      <td>Haryana</td>\n",
       "      <td>Northern</td>\n",
       "      <td>4220175.00</td>\n",
       "    </tr>\n",
       "    <tr>\n",
       "      <th>1</th>\n",
       "      <td>Bihar</td>\n",
       "      <td>Eastern</td>\n",
       "      <td>4022757.00</td>\n",
       "    </tr>\n",
       "    <tr>\n",
       "      <th>3</th>\n",
       "      <td>Gujarat</td>\n",
       "      <td>Western</td>\n",
       "      <td>3946082.00</td>\n",
       "    </tr>\n",
       "    <tr>\n",
       "      <th>8</th>\n",
       "      <td>Kerala</td>\n",
       "      <td>Southern</td>\n",
       "      <td>3894491.99</td>\n",
       "    </tr>\n",
       "    <tr>\n",
       "      <th>6</th>\n",
       "      <td>Jharkhand</td>\n",
       "      <td>Eastern</td>\n",
       "      <td>3026456.00</td>\n",
       "    </tr>\n",
       "    <tr>\n",
       "      <th>15</th>\n",
       "      <td>Uttarakhand</td>\n",
       "      <td>Central</td>\n",
       "      <td>2520944.00</td>\n",
       "    </tr>\n",
       "    <tr>\n",
       "      <th>12</th>\n",
       "      <td>Rajasthan</td>\n",
       "      <td>Northern</td>\n",
       "      <td>1909409.00</td>\n",
       "    </tr>\n",
       "    <tr>\n",
       "      <th>11</th>\n",
       "      <td>Punjab</td>\n",
       "      <td>Northern</td>\n",
       "      <td>1525800.00</td>\n",
       "    </tr>\n",
       "    <tr>\n",
       "      <th>13</th>\n",
       "      <td>Telangana</td>\n",
       "      <td>Southern</td>\n",
       "      <td>1151490.00</td>\n",
       "    </tr>\n",
       "  </tbody>\n",
       "</table>\n",
       "</div>"
      ],
      "text/plain": [
       "               State      Zone       Amount\n",
       "14     Uttar Pradesh   Central  19374968.00\n",
       "10       Maharashtra   Western  14427543.00\n",
       "7          Karnataka  Southern  13523540.00\n",
       "2              Delhi   Central  11603819.45\n",
       "9     Madhya Pradesh   Central   8101142.00\n",
       "0     Andhra Pradesh  Southern   8037146.99\n",
       "5   Himachal Pradesh  Northern   4963368.00\n",
       "4            Haryana  Northern   4220175.00\n",
       "1              Bihar   Eastern   4022757.00\n",
       "3            Gujarat   Western   3946082.00\n",
       "8             Kerala  Southern   3894491.99\n",
       "6          Jharkhand   Eastern   3026456.00\n",
       "15       Uttarakhand   Central   2520944.00\n",
       "12         Rajasthan  Northern   1909409.00\n",
       "11            Punjab  Northern   1525800.00\n",
       "13         Telangana  Southern   1151490.00"
      ]
     },
     "execution_count": 141,
     "metadata": {},
     "output_type": "execute_result"
    }
   ],
   "source": [
    "state_zone_sale= df.groupby(by= [\"State\", \"Zone\"], as_index=False)[\"Amount\"].sum().sort_values(by= \"Amount\", ascending= False)\n",
    "state_zone_sale"
   ]
  },
  {
   "cell_type": "markdown",
   "id": "0a2d4cce",
   "metadata": {},
   "source": [
    "Identify the top 5 products (Product_ID) that generated the most revenue."
   ]
  },
  {
   "cell_type": "code",
   "execution_count": 145,
   "id": "49bb4383",
   "metadata": {},
   "outputs": [
    {
     "data": {
      "text/html": [
       "<div>\n",
       "<style scoped>\n",
       "    .dataframe tbody tr th:only-of-type {\n",
       "        vertical-align: middle;\n",
       "    }\n",
       "\n",
       "    .dataframe tbody tr th {\n",
       "        vertical-align: top;\n",
       "    }\n",
       "\n",
       "    .dataframe thead th {\n",
       "        text-align: right;\n",
       "    }\n",
       "</style>\n",
       "<table border=\"1\" class=\"dataframe\">\n",
       "  <thead>\n",
       "    <tr style=\"text-align: right;\">\n",
       "      <th></th>\n",
       "      <th>Product_ID</th>\n",
       "      <th>Amount</th>\n",
       "    </tr>\n",
       "  </thead>\n",
       "  <tbody>\n",
       "    <tr>\n",
       "      <th>1680</th>\n",
       "      <td>P00265242</td>\n",
       "      <td>540136.0</td>\n",
       "    </tr>\n",
       "    <tr>\n",
       "      <th>645</th>\n",
       "      <td>P00110942</td>\n",
       "      <td>424833.0</td>\n",
       "    </tr>\n",
       "    <tr>\n",
       "      <th>1147</th>\n",
       "      <td>P00184942</td>\n",
       "      <td>401816.0</td>\n",
       "    </tr>\n",
       "    <tr>\n",
       "      <th>655</th>\n",
       "      <td>P00112142</td>\n",
       "      <td>341020.0</td>\n",
       "    </tr>\n",
       "    <tr>\n",
       "      <th>397</th>\n",
       "      <td>P00059442</td>\n",
       "      <td>338571.0</td>\n",
       "    </tr>\n",
       "  </tbody>\n",
       "</table>\n",
       "</div>"
      ],
      "text/plain": [
       "     Product_ID    Amount\n",
       "1680  P00265242  540136.0\n",
       "645   P00110942  424833.0\n",
       "1147  P00184942  401816.0\n",
       "655   P00112142  341020.0\n",
       "397   P00059442  338571.0"
      ]
     },
     "execution_count": 145,
     "metadata": {},
     "output_type": "execute_result"
    }
   ],
   "source": [
    "prod_rev= df.groupby(\"Product_ID\", as_index= False)[\"Amount\"].sum().sort_values(by= \"Amount\", ascending= False).head(5)\n",
    "prod_rev"
   ]
  },
  {
   "cell_type": "markdown",
   "id": "63c81a13",
   "metadata": {},
   "source": [
    "Calculate the total sales for each product category within each occupation."
   ]
  },
  {
   "cell_type": "code",
   "execution_count": 154,
   "id": "643d18db",
   "metadata": {},
   "outputs": [
    {
     "data": {
      "text/plain": [
       "Product_Category  Occupation  \n",
       "Auto              Agriculture      18609.0\n",
       "                  Automobile      165586.0\n",
       "                  Aviation        244129.0\n",
       "                  Banking         253553.0\n",
       "                  Construction     80219.0\n",
       "                                    ...   \n",
       "Veterinary        Hospitality      10614.0\n",
       "                  IT Sector        17690.0\n",
       "                  Lawyer            2804.0\n",
       "                  Media              738.0\n",
       "                  Retail            3478.0\n",
       "Name: Amount, Length: 263, dtype: float64"
      ]
     },
     "execution_count": 154,
     "metadata": {},
     "output_type": "execute_result"
    }
   ],
   "source": [
    "prod_cat_occu_sales= df.groupby(by=[\"Product_Category\", \"Occupation\"])[\"Amount\"].sum()\n",
    "prod_cat_occu_sales"
   ]
  },
  {
   "cell_type": "markdown",
   "id": "193cda8b",
   "metadata": {},
   "source": [
    "Determine the percentage of male and female customers in each age group."
   ]
  },
  {
   "cell_type": "code",
   "execution_count": 152,
   "id": "e08d81aa",
   "metadata": {},
   "outputs": [
    {
     "data": {
      "text/plain": [
       "Age Group  Gender\n",
       "0-17       F          162\n",
       "           M          134\n",
       "18-25      F         1305\n",
       "           M          574\n",
       "26-35      F         3271\n",
       "           M         1272\n",
       "36-45      F         1581\n",
       "           M          705\n",
       "46-50      F          696\n",
       "           M          291\n",
       "51-55      F          554\n",
       "           M          278\n",
       "55+        F          273\n",
       "           M          155\n",
       "Name: Gender, dtype: int64"
      ]
     },
     "execution_count": 152,
     "metadata": {},
     "output_type": "execute_result"
    }
   ],
   "source": [
    "age_grp_gender_percent= df.groupby(by= [\"Age Group\", \"Gender\"])[\"Gender\"].count()\n",
    "age_grp_gender_percent"
   ]
  },
  {
   "cell_type": "code",
   "execution_count": 153,
   "id": "7c9cb131",
   "metadata": {},
   "outputs": [
    {
     "data": {
      "text/html": [
       "<div>\n",
       "<style scoped>\n",
       "    .dataframe tbody tr th:only-of-type {\n",
       "        vertical-align: middle;\n",
       "    }\n",
       "\n",
       "    .dataframe tbody tr th {\n",
       "        vertical-align: top;\n",
       "    }\n",
       "\n",
       "    .dataframe thead th {\n",
       "        text-align: right;\n",
       "    }\n",
       "</style>\n",
       "<table border=\"1\" class=\"dataframe\">\n",
       "  <thead>\n",
       "    <tr style=\"text-align: right;\">\n",
       "      <th></th>\n",
       "      <th>User_ID</th>\n",
       "      <th>Cust_name</th>\n",
       "      <th>Product_ID</th>\n",
       "      <th>Gender</th>\n",
       "      <th>Age Group</th>\n",
       "      <th>Age</th>\n",
       "      <th>Marital_Status</th>\n",
       "      <th>State</th>\n",
       "      <th>Zone</th>\n",
       "      <th>Occupation</th>\n",
       "      <th>Product_Category</th>\n",
       "      <th>Orders</th>\n",
       "      <th>Amount</th>\n",
       "    </tr>\n",
       "  </thead>\n",
       "  <tbody>\n",
       "    <tr>\n",
       "      <th>0</th>\n",
       "      <td>1002903</td>\n",
       "      <td>Sanskriti</td>\n",
       "      <td>P00125942</td>\n",
       "      <td>F</td>\n",
       "      <td>26-35</td>\n",
       "      <td>28</td>\n",
       "      <td>0</td>\n",
       "      <td>Maharashtra</td>\n",
       "      <td>Western</td>\n",
       "      <td>Healthcare</td>\n",
       "      <td>Auto</td>\n",
       "      <td>1</td>\n",
       "      <td>23952.0</td>\n",
       "    </tr>\n",
       "    <tr>\n",
       "      <th>1</th>\n",
       "      <td>1000732</td>\n",
       "      <td>Kartik</td>\n",
       "      <td>P00110942</td>\n",
       "      <td>F</td>\n",
       "      <td>26-35</td>\n",
       "      <td>35</td>\n",
       "      <td>1</td>\n",
       "      <td>Andhra Pradesh</td>\n",
       "      <td>Southern</td>\n",
       "      <td>Govt</td>\n",
       "      <td>Auto</td>\n",
       "      <td>3</td>\n",
       "      <td>23934.0</td>\n",
       "    </tr>\n",
       "    <tr>\n",
       "      <th>2</th>\n",
       "      <td>1001990</td>\n",
       "      <td>Bindu</td>\n",
       "      <td>P00118542</td>\n",
       "      <td>F</td>\n",
       "      <td>26-35</td>\n",
       "      <td>35</td>\n",
       "      <td>1</td>\n",
       "      <td>Uttar Pradesh</td>\n",
       "      <td>Central</td>\n",
       "      <td>Automobile</td>\n",
       "      <td>Auto</td>\n",
       "      <td>3</td>\n",
       "      <td>23924.0</td>\n",
       "    </tr>\n",
       "    <tr>\n",
       "      <th>3</th>\n",
       "      <td>1001425</td>\n",
       "      <td>Sudevi</td>\n",
       "      <td>P00237842</td>\n",
       "      <td>M</td>\n",
       "      <td>0-17</td>\n",
       "      <td>16</td>\n",
       "      <td>0</td>\n",
       "      <td>Karnataka</td>\n",
       "      <td>Southern</td>\n",
       "      <td>Construction</td>\n",
       "      <td>Auto</td>\n",
       "      <td>2</td>\n",
       "      <td>23912.0</td>\n",
       "    </tr>\n",
       "    <tr>\n",
       "      <th>4</th>\n",
       "      <td>1000588</td>\n",
       "      <td>Joni</td>\n",
       "      <td>P00057942</td>\n",
       "      <td>M</td>\n",
       "      <td>26-35</td>\n",
       "      <td>28</td>\n",
       "      <td>1</td>\n",
       "      <td>Gujarat</td>\n",
       "      <td>Western</td>\n",
       "      <td>Food Processing</td>\n",
       "      <td>Auto</td>\n",
       "      <td>2</td>\n",
       "      <td>23877.0</td>\n",
       "    </tr>\n",
       "    <tr>\n",
       "      <th>...</th>\n",
       "      <td>...</td>\n",
       "      <td>...</td>\n",
       "      <td>...</td>\n",
       "      <td>...</td>\n",
       "      <td>...</td>\n",
       "      <td>...</td>\n",
       "      <td>...</td>\n",
       "      <td>...</td>\n",
       "      <td>...</td>\n",
       "      <td>...</td>\n",
       "      <td>...</td>\n",
       "      <td>...</td>\n",
       "      <td>...</td>\n",
       "    </tr>\n",
       "    <tr>\n",
       "      <th>11246</th>\n",
       "      <td>1000695</td>\n",
       "      <td>Manning</td>\n",
       "      <td>P00296942</td>\n",
       "      <td>M</td>\n",
       "      <td>18-25</td>\n",
       "      <td>19</td>\n",
       "      <td>1</td>\n",
       "      <td>Maharashtra</td>\n",
       "      <td>Western</td>\n",
       "      <td>Chemical</td>\n",
       "      <td>Office</td>\n",
       "      <td>4</td>\n",
       "      <td>370.0</td>\n",
       "    </tr>\n",
       "    <tr>\n",
       "      <th>11247</th>\n",
       "      <td>1004089</td>\n",
       "      <td>Reichenbach</td>\n",
       "      <td>P00171342</td>\n",
       "      <td>M</td>\n",
       "      <td>26-35</td>\n",
       "      <td>33</td>\n",
       "      <td>0</td>\n",
       "      <td>Haryana</td>\n",
       "      <td>Northern</td>\n",
       "      <td>Healthcare</td>\n",
       "      <td>Veterinary</td>\n",
       "      <td>3</td>\n",
       "      <td>367.0</td>\n",
       "    </tr>\n",
       "    <tr>\n",
       "      <th>11248</th>\n",
       "      <td>1001209</td>\n",
       "      <td>Oshin</td>\n",
       "      <td>P00201342</td>\n",
       "      <td>F</td>\n",
       "      <td>36-45</td>\n",
       "      <td>40</td>\n",
       "      <td>0</td>\n",
       "      <td>Madhya Pradesh</td>\n",
       "      <td>Central</td>\n",
       "      <td>Textile</td>\n",
       "      <td>Office</td>\n",
       "      <td>4</td>\n",
       "      <td>213.0</td>\n",
       "    </tr>\n",
       "    <tr>\n",
       "      <th>11249</th>\n",
       "      <td>1004023</td>\n",
       "      <td>Noonan</td>\n",
       "      <td>P00059442</td>\n",
       "      <td>M</td>\n",
       "      <td>36-45</td>\n",
       "      <td>37</td>\n",
       "      <td>0</td>\n",
       "      <td>Karnataka</td>\n",
       "      <td>Southern</td>\n",
       "      <td>Agriculture</td>\n",
       "      <td>Office</td>\n",
       "      <td>3</td>\n",
       "      <td>206.0</td>\n",
       "    </tr>\n",
       "    <tr>\n",
       "      <th>11250</th>\n",
       "      <td>1002744</td>\n",
       "      <td>Brumley</td>\n",
       "      <td>P00281742</td>\n",
       "      <td>F</td>\n",
       "      <td>18-25</td>\n",
       "      <td>19</td>\n",
       "      <td>0</td>\n",
       "      <td>Maharashtra</td>\n",
       "      <td>Western</td>\n",
       "      <td>Healthcare</td>\n",
       "      <td>Office</td>\n",
       "      <td>3</td>\n",
       "      <td>188.0</td>\n",
       "    </tr>\n",
       "  </tbody>\n",
       "</table>\n",
       "<p>11251 rows × 13 columns</p>\n",
       "</div>"
      ],
      "text/plain": [
       "       User_ID    Cust_name Product_ID Gender Age Group  Age  Marital_Status  \\\n",
       "0      1002903    Sanskriti  P00125942      F     26-35   28               0   \n",
       "1      1000732       Kartik  P00110942      F     26-35   35               1   \n",
       "2      1001990        Bindu  P00118542      F     26-35   35               1   \n",
       "3      1001425       Sudevi  P00237842      M      0-17   16               0   \n",
       "4      1000588         Joni  P00057942      M     26-35   28               1   \n",
       "...        ...          ...        ...    ...       ...  ...             ...   \n",
       "11246  1000695      Manning  P00296942      M     18-25   19               1   \n",
       "11247  1004089  Reichenbach  P00171342      M     26-35   33               0   \n",
       "11248  1001209        Oshin  P00201342      F     36-45   40               0   \n",
       "11249  1004023       Noonan  P00059442      M     36-45   37               0   \n",
       "11250  1002744      Brumley  P00281742      F     18-25   19               0   \n",
       "\n",
       "                State      Zone       Occupation Product_Category  Orders  \\\n",
       "0         Maharashtra   Western       Healthcare             Auto       1   \n",
       "1      Andhra Pradesh  Southern             Govt             Auto       3   \n",
       "2       Uttar Pradesh   Central       Automobile             Auto       3   \n",
       "3           Karnataka  Southern     Construction             Auto       2   \n",
       "4             Gujarat   Western  Food Processing             Auto       2   \n",
       "...               ...       ...              ...              ...     ...   \n",
       "11246     Maharashtra   Western         Chemical           Office       4   \n",
       "11247         Haryana  Northern       Healthcare       Veterinary       3   \n",
       "11248  Madhya Pradesh   Central          Textile           Office       4   \n",
       "11249       Karnataka  Southern      Agriculture           Office       3   \n",
       "11250     Maharashtra   Western       Healthcare           Office       3   \n",
       "\n",
       "        Amount  \n",
       "0      23952.0  \n",
       "1      23934.0  \n",
       "2      23924.0  \n",
       "3      23912.0  \n",
       "4      23877.0  \n",
       "...        ...  \n",
       "11246    370.0  \n",
       "11247    367.0  \n",
       "11248    213.0  \n",
       "11249    206.0  \n",
       "11250    188.0  \n",
       "\n",
       "[11251 rows x 13 columns]"
      ]
     },
     "execution_count": 153,
     "metadata": {},
     "output_type": "execute_result"
    }
   ],
   "source": [
    "df"
   ]
  },
  {
   "cell_type": "markdown",
   "id": "22a4971e",
   "metadata": {},
   "source": [
    "Calculate the average order amount for each combination of gender and marital status."
   ]
  },
  {
   "cell_type": "code",
   "execution_count": 156,
   "id": "497390c7",
   "metadata": {},
   "outputs": [
    {
     "data": {
      "text/plain": [
       "Gender  Marital_Status\n",
       "F       0                 2.49\n",
       "        1                 2.50\n",
       "M       0                 2.50\n",
       "        1                 2.45\n",
       "Name: Orders, dtype: float64"
      ]
     },
     "execution_count": 156,
     "metadata": {},
     "output_type": "execute_result"
    }
   ],
   "source": [
    "gen_marry_order= df.groupby(by= [\"Gender\", \"Marital_Status\"])[\"Orders\"].mean().round(2)\n",
    "gen_marry_order"
   ]
  },
  {
   "cell_type": "markdown",
   "id": "532b24f6",
   "metadata": {},
   "source": [
    "Identify the top 3 product categories for each state based on total sales amount."
   ]
  },
  {
   "cell_type": "code",
   "execution_count": 160,
   "id": "82526a3a",
   "metadata": {},
   "outputs": [
    {
     "data": {
      "text/html": [
       "<div>\n",
       "<style scoped>\n",
       "    .dataframe tbody tr th:only-of-type {\n",
       "        vertical-align: middle;\n",
       "    }\n",
       "\n",
       "    .dataframe tbody tr th {\n",
       "        vertical-align: top;\n",
       "    }\n",
       "\n",
       "    .dataframe thead th {\n",
       "        text-align: right;\n",
       "    }\n",
       "</style>\n",
       "<table border=\"1\" class=\"dataframe\">\n",
       "  <thead>\n",
       "    <tr style=\"text-align: right;\">\n",
       "      <th></th>\n",
       "      <th>Product_Category</th>\n",
       "      <th>State</th>\n",
       "      <th>Amount</th>\n",
       "    </tr>\n",
       "  </thead>\n",
       "  <tbody>\n",
       "    <tr>\n",
       "      <th>91</th>\n",
       "      <td>Food</td>\n",
       "      <td>Uttar Pradesh</td>\n",
       "      <td>7983142.00</td>\n",
       "    </tr>\n",
       "    <tr>\n",
       "      <th>87</th>\n",
       "      <td>Food</td>\n",
       "      <td>Maharashtra</td>\n",
       "      <td>6421531.00</td>\n",
       "    </tr>\n",
       "    <tr>\n",
       "      <th>95</th>\n",
       "      <td>Footwear &amp; Shoes</td>\n",
       "      <td>Delhi</td>\n",
       "      <td>5027449.45</td>\n",
       "    </tr>\n",
       "  </tbody>\n",
       "</table>\n",
       "</div>"
      ],
      "text/plain": [
       "    Product_Category          State      Amount\n",
       "91              Food  Uttar Pradesh  7983142.00\n",
       "87              Food    Maharashtra  6421531.00\n",
       "95  Footwear & Shoes          Delhi  5027449.45"
      ]
     },
     "execution_count": 160,
     "metadata": {},
     "output_type": "execute_result"
    }
   ],
   "source": [
    "state_prod_cat_sales= df.groupby(by= [\"Product_Category\", \"State\"], as_index= False)[\"Amount\"].sum().sort_values(by= \"Amount\", ascending= False).head(3)\n",
    "state_prod_cat_sales"
   ]
  },
  {
   "cell_type": "markdown",
   "id": "b5ff0e08",
   "metadata": {},
   "source": [
    "Find the state with the highest total sales for each product category."
   ]
  },
  {
   "cell_type": "code",
   "execution_count": 161,
   "id": "ae856626",
   "metadata": {},
   "outputs": [
    {
     "data": {
      "text/plain": [
       "('Uttar Pradesh', 'Food')"
      ]
     },
     "execution_count": 161,
     "metadata": {},
     "output_type": "execute_result"
    }
   ],
   "source": [
    "state_prod_cat_sale= df.groupby([\"State\", \"Product_Category\"])[\"Amount\"].sum().idxmax()\n",
    "state_prod_cat_sale"
   ]
  },
  {
   "cell_type": "markdown",
   "id": "9334ee0d",
   "metadata": {},
   "source": [
    "Calculate the total sales for each product category for customers aged 25-35 (inclusive) and 36-45 (inclusive), and compare the results."
   ]
  },
  {
   "cell_type": "code",
   "execution_count": 173,
   "id": "d468f0f6",
   "metadata": {},
   "outputs": [
    {
     "data": {
      "text/plain": [
       "Age_Group  Product_Category     \n",
       "25-35      Auto                       979518.99\n",
       "           Beauty                     811961.00\n",
       "           Books                      468222.00\n",
       "           Clothing & Apparel        6991326.00\n",
       "           Decor                      278096.00\n",
       "           Electronics & Gadgets     6543021.00\n",
       "           Food                     14432906.50\n",
       "           Footwear & Shoes          6267052.45\n",
       "           Furniture                 2357872.00\n",
       "           Games & Toys              1880539.00\n",
       "           Hand & Power Tools         182302.00\n",
       "           Household items            852627.00\n",
       "           Office                      32199.00\n",
       "           Pet Care                   209505.00\n",
       "           Sports Products           1466924.00\n",
       "           Stationery                 792834.00\n",
       "           Tupperware                 337618.00\n",
       "           Veterinary                  64590.00\n",
       "36-45      Auto                       310653.00\n",
       "           Beauty                     359672.00\n",
       "           Books                      210697.00\n",
       "           Clothing & Apparel        3229748.00\n",
       "           Decor                      155192.00\n",
       "           Electronics & Gadgets     3091684.00\n",
       "           Food                      6183119.00\n",
       "           Footwear & Shoes          4501652.00\n",
       "           Furniture                 1037865.99\n",
       "           Games & Toys               929677.00\n",
       "           Hand & Power Tools          99074.00\n",
       "           Household items            227996.00\n",
       "           Office                      16519.00\n",
       "           Pet Care                    76379.00\n",
       "           Sports Products            820725.00\n",
       "           Stationery                 353012.50\n",
       "           Tupperware                 283342.00\n",
       "           Veterinary                  18841.00\n",
       "Name: Amount, dtype: float64"
      ]
     },
     "execution_count": 173,
     "metadata": {},
     "output_type": "execute_result"
    }
   ],
   "source": [
    "def age_group(row):\n",
    "    if 25 <= row['Age'] <= 35:\n",
    "        return '25-35'\n",
    "    elif 36 <= row['Age'] <= 45:\n",
    "        return '36-45'\n",
    "\n",
    "df['Age_Group'] = df.apply(age_group, axis=1)\n",
    "total_sales_by_age_group = df.groupby(['Age_Group', 'Product_Category'])['Amount'].sum()\n",
    "total_sales_by_age_group"
   ]
  },
  {
   "cell_type": "markdown",
   "id": "b217eeea",
   "metadata": {},
   "source": [
    "Determine the average order amount for each age group within each occupation category."
   ]
  },
  {
   "cell_type": "code",
   "execution_count": 179,
   "id": "5a64af47",
   "metadata": {},
   "outputs": [
    {
     "data": {
      "text/plain": [
       "Age Group  Occupation \n",
       "0-17       Agriculture    3.44\n",
       "           Automobile     2.18\n",
       "           Aviation       1.93\n",
       "           Banking        2.50\n",
       "           Chemical       2.08\n",
       "                          ... \n",
       "55+        IT Sector      2.52\n",
       "           Lawyer         2.80\n",
       "           Media          2.58\n",
       "           Retail         1.95\n",
       "           Textile        2.61\n",
       "Name: Orders, Length: 105, dtype: float64"
      ]
     },
     "execution_count": 179,
     "metadata": {},
     "output_type": "execute_result"
    }
   ],
   "source": [
    "age_occup_sales= df.groupby(by= [\"Age Group\", \"Occupation\"])[\"Orders\"].mean().round(2)\n",
    "age_occup_sales"
   ]
  },
  {
   "cell_type": "markdown",
   "id": "cbcfedfd",
   "metadata": {},
   "source": [
    "Find the top 5 customers (User_ID) who have made the most orders within each state."
   ]
  },
  {
   "cell_type": "code",
   "execution_count": 186,
   "id": "367b8247",
   "metadata": {},
   "outputs": [
    {
     "data": {
      "text/plain": [
       "State           User_ID\n",
       "Andhra Pradesh  1003824    10\n",
       "                1002544     9\n",
       "                1001298     8\n",
       "                1001680     8\n",
       "                1001980     8\n",
       "                           ..\n",
       "Uttarakhand     1004323     7\n",
       "                1005604     7\n",
       "                1000195     6\n",
       "                1001680     6\n",
       "                1003709     6\n",
       "Name: Orders, Length: 80, dtype: int64"
      ]
     },
     "execution_count": 186,
     "metadata": {},
     "output_type": "execute_result"
    }
   ],
   "source": [
    "df.groupby([\"State\",\"User_ID\"])[\"Orders\"].sum().groupby(\"State\", group_keys=False).nlargest(5)"
   ]
  },
  {
   "cell_type": "markdown",
   "id": "7169a287",
   "metadata": {},
   "source": [
    "Calculate the total sales for each combination of occupation and gender."
   ]
  },
  {
   "cell_type": "code",
   "execution_count": 187,
   "id": "f4835400",
   "metadata": {},
   "outputs": [
    {
     "data": {
      "text/plain": [
       "Occupation       Gender\n",
       "Agriculture      F          1840482.00\n",
       "                 M           752605.00\n",
       "Automobile       F          3768843.00\n",
       "                 M          1599753.00\n",
       "Aviation         F          9007393.00\n",
       "                 M          3594905.00\n",
       "Banking          F          7792295.95\n",
       "                 M          2978315.00\n",
       "Chemical         F          3665084.00\n",
       "                 M          1632352.00\n",
       "Construction     F          2595422.00\n",
       "                 M          1002089.00\n",
       "Food Processing  F          2825277.00\n",
       "                 M          1245393.00\n",
       "Govt             F          6002907.00\n",
       "                 M          2514305.00\n",
       "Healthcare       F          8968232.49\n",
       "                 M          4066355.00\n",
       "Hospitality      F          4183199.00\n",
       "                 M          2193206.00\n",
       "IT Sector        F         10184835.00\n",
       "                 M          4570244.00\n",
       "Lawyer           F          3383409.00\n",
       "                 M          1598256.00\n",
       "Media            F          4375029.99\n",
       "                 M          1920803.00\n",
       "Retail           F          3583695.00\n",
       "                 M          1199475.00\n",
       "Textile          F          2159752.00\n",
       "                 M          1045220.00\n",
       "Name: Amount, dtype: float64"
      ]
     },
     "execution_count": 187,
     "metadata": {},
     "output_type": "execute_result"
    }
   ],
   "source": [
    "occup_gender_sales= df.groupby([\"Occupation\", \"Gender\"])[\"Amount\"].sum()\n",
    "occup_gender_sales"
   ]
  },
  {
   "cell_type": "markdown",
   "id": "d6ec5f9f",
   "metadata": {},
   "source": [
    "Identify the top 3 products (Product_ID) with the highest average order amount for customers aged 18-24 (inclusive)."
   ]
  },
  {
   "cell_type": "code",
   "execution_count": 197,
   "id": "3d0ab443",
   "metadata": {},
   "outputs": [
    {
     "data": {
      "text/plain": [
       "Product_ID\n",
       "P00200842    23770.0\n",
       "P00271842    23515.0\n",
       "P00105042    23066.0\n",
       "Name: Amount, dtype: float64"
      ]
     },
     "execution_count": 197,
     "metadata": {},
     "output_type": "execute_result"
    }
   ],
   "source": [
    "def age_group2(row):\n",
    "    if 18<=row[\"Age\"]>=24:\n",
    "        return \"18-24\"\n",
    "df[\"Age_group2\"]= df.apply(age_group2, axis=1)\n",
    "prod_age_order= df[df[\"Age_group2\"]== \"18-24\"].groupby(\"Product_ID\")[\"Amount\"].mean().nlargest(3)\n",
    "prod_age_order"
   ]
  },
  {
   "cell_type": "markdown",
   "id": "8abb647e",
   "metadata": {},
   "source": [
    "Determine the state with the highest total sales in each zone."
   ]
  },
  {
   "cell_type": "code",
   "execution_count": 208,
   "id": "6c0658c5",
   "metadata": {},
   "outputs": [
    {
     "data": {
      "text/html": [
       "<div>\n",
       "<style scoped>\n",
       "    .dataframe tbody tr th:only-of-type {\n",
       "        vertical-align: middle;\n",
       "    }\n",
       "\n",
       "    .dataframe tbody tr th {\n",
       "        vertical-align: top;\n",
       "    }\n",
       "\n",
       "    .dataframe thead th {\n",
       "        text-align: right;\n",
       "    }\n",
       "</style>\n",
       "<table border=\"1\" class=\"dataframe\">\n",
       "  <thead>\n",
       "    <tr style=\"text-align: right;\">\n",
       "      <th></th>\n",
       "      <th>Zone</th>\n",
       "      <th>State</th>\n",
       "      <th>Amount</th>\n",
       "    </tr>\n",
       "  </thead>\n",
       "  <tbody>\n",
       "    <tr>\n",
       "      <th>2</th>\n",
       "      <td>Central</td>\n",
       "      <td>Uttar Pradesh</td>\n",
       "      <td>19374968.0</td>\n",
       "    </tr>\n",
       "    <tr>\n",
       "      <th>4</th>\n",
       "      <td>Eastern</td>\n",
       "      <td>Bihar</td>\n",
       "      <td>4022757.0</td>\n",
       "    </tr>\n",
       "    <tr>\n",
       "      <th>7</th>\n",
       "      <td>Northern</td>\n",
       "      <td>Himachal Pradesh</td>\n",
       "      <td>4963368.0</td>\n",
       "    </tr>\n",
       "    <tr>\n",
       "      <th>11</th>\n",
       "      <td>Southern</td>\n",
       "      <td>Karnataka</td>\n",
       "      <td>13523540.0</td>\n",
       "    </tr>\n",
       "    <tr>\n",
       "      <th>15</th>\n",
       "      <td>Western</td>\n",
       "      <td>Maharashtra</td>\n",
       "      <td>14427543.0</td>\n",
       "    </tr>\n",
       "  </tbody>\n",
       "</table>\n",
       "</div>"
      ],
      "text/plain": [
       "        Zone             State      Amount\n",
       "2    Central     Uttar Pradesh  19374968.0\n",
       "4    Eastern             Bihar   4022757.0\n",
       "7   Northern  Himachal Pradesh   4963368.0\n",
       "11  Southern         Karnataka  13523540.0\n",
       "15   Western       Maharashtra  14427543.0"
      ]
     },
     "execution_count": 208,
     "metadata": {},
     "output_type": "execute_result"
    }
   ],
   "source": [
    "state_sales= df.groupby([\"Zone\", \"State\"])[\"Amount\"].sum().reset_index()\n",
    "state_sales= state_sales.loc[state_sales.groupby(\"Zone\")[\"Amount\"].idxmax()]\n",
    "state_sales"
   ]
  },
  {
   "cell_type": "markdown",
   "id": "1b27625c",
   "metadata": {},
   "source": [
    "Calculate the percentage of orders that have an above-average order amount within each product category."
   ]
  },
  {
   "cell_type": "code",
   "execution_count": 216,
   "id": "29462154",
   "metadata": {},
   "outputs": [
    {
     "data": {
      "text/plain": [
       "Product_Category\n",
       "Auto                     96.000000\n",
       "Beauty                    0.000000\n",
       "Books                    73.786408\n",
       "Clothing & Apparel        0.000000\n",
       "Decor                    28.125000\n",
       "Electronics & Gadgets    25.299473\n",
       "Food                     82.150020\n",
       "Footwear & Shoes         82.706767\n",
       "Furniture                88.385269\n",
       "Games & Toys             80.569948\n",
       "Hand & Power Tools       88.461538\n",
       "Household items           0.000000\n",
       "Office                    0.000000\n",
       "Pet Care                  0.000000\n",
       "Sports Products          63.764045\n",
       "Stationery               75.892857\n",
       "Tupperware               86.111111\n",
       "Veterinary                0.000000\n",
       "Name: Amount, dtype: float64"
      ]
     },
     "execution_count": 216,
     "metadata": {},
     "output_type": "execute_result"
    }
   ],
   "source": [
    "avg_order_amount = df['Amount'].mean()\n",
    "percentage_above_avg_by_category = df.groupby('Product_Category')['Amount'].apply(lambda x: (x > avg_order_amount).mean() * 100)\n",
    "percentage_above_avg_by_category"
   ]
  },
  {
   "cell_type": "code",
   "execution_count": null,
   "id": "0dc134e4",
   "metadata": {},
   "outputs": [],
   "source": []
  },
  {
   "cell_type": "code",
   "execution_count": 219,
   "id": "1277d849",
   "metadata": {},
   "outputs": [
    {
     "data": {
      "text/plain": [
       "9453.610857727557"
      ]
     },
     "execution_count": 219,
     "metadata": {},
     "output_type": "execute_result"
    }
   ],
   "source": [
    "df[\"Amount\"].mean()"
   ]
  },
  {
   "cell_type": "code",
   "execution_count": 3,
   "id": "88cd8acf",
   "metadata": {},
   "outputs": [
    {
     "data": {
      "text/plain": [
       "Index(['User_ID', 'Cust_name', 'Product_ID', 'Gender', 'Age Group', 'Age',\n",
       "       'Marital_Status', 'State', 'Zone', 'Occupation', 'Product_Category',\n",
       "       'Orders', 'Amount', 'Status', 'unnamed1'],\n",
       "      dtype='object')"
      ]
     },
     "execution_count": 3,
     "metadata": {},
     "output_type": "execute_result"
    }
   ],
   "source": [
    "df.columns"
   ]
  }
 ],
 "metadata": {
  "kernelspec": {
   "display_name": "Python 3 (ipykernel)",
   "language": "python",
   "name": "python3"
  },
  "language_info": {
   "codemirror_mode": {
    "name": "ipython",
    "version": 3
   },
   "file_extension": ".py",
   "mimetype": "text/x-python",
   "name": "python",
   "nbconvert_exporter": "python",
   "pygments_lexer": "ipython3",
   "version": "3.11.4"
  },
  "toc": {
   "base_numbering": 1,
   "nav_menu": {},
   "number_sections": true,
   "sideBar": true,
   "skip_h1_title": false,
   "title_cell": "Table of Contents",
   "title_sidebar": "Contents",
   "toc_cell": false,
   "toc_position": {},
   "toc_section_display": true,
   "toc_window_display": false
  }
 },
 "nbformat": 4,
 "nbformat_minor": 5
}
